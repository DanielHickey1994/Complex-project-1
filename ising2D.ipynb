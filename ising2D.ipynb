{
 "cells": [
  {
   "cell_type": "code",
   "execution_count": 3,
   "metadata": {},
   "outputs": [
    {
     "data": {
      "image/png": "[encoded data removed]",
      "text/plain": [
       "Figure(PyObject <Figure size 480x480 with 1 Axes>)"
      ]
     },
     "metadata": {},
     "output_type": "display_data"
    },
    {
     "data": {
      "image/png": "[encoded data removed]",
      "text/plain": [
       "Figure(PyObject <Figure size 480x480 with 1 Axes>)"
      ]
     },
     "metadata": {},
     "output_type": "display_data"
    },
    {
     "name": "stdout",
     "output_type": "stream",
     "text": [
      "Any[4390.0]1.1"
     ]
    }
   ],
   "source": [
    "using Pkg;\n",
    "using Plots;\n",
    "using PyPlot;\n",
    "\n",
    "n=102;\n",
    "m=102;\n",
    "p=0;\n",
    "#T=collect(1:1)\n",
    "T=0.1\n",
    "    steps=10000000\n",
    "tolerence=2\n",
    "change=10\n",
    "C = rand(0:1,(n,m))\n",
    "B = C*2\n",
    "A = B-ones(n,m)\n",
    "M=[]\n",
    "\n",
    " \n",
    "\n",
    "A[:,1]=A[:,n-1]\n",
    "A[:,n]=A[:,2]\n",
    "A[1,:]=A[n-1,:]\n",
    "A[n,:]=A[2,:]\n",
    "\n",
    "matshow(A)\n",
    "\n",
    "while T <= 1;\n",
    "    while p <= steps;\n",
    "    #while change >= tolerence;\n",
    "    \n",
    "        \n",
    "        net_spin_1 = sum(A)\n",
    "\n",
    "        i = rand(2:n-1)\n",
    "        j = rand(2:m-1)\n",
    "    \n",
    "        function spin_flip(E_change, T)    \n",
    "            if E_change < 0;\n",
    "                A[i,j]=-A[i,j]\n",
    "            elseif exp(-E_change/T) > rand();\n",
    "                A[i,j]=-A[i,j]            \n",
    "            end\n",
    "        end \n",
    "\n",
    "        A_1 = A[i,j]*A[i-1,j];\n",
    "        A_2 = A[i,j]*A[i+1,j];\n",
    "        A_3 = A[i,j]*A[i,j-1];\n",
    "        A_4 = A[i,j]*A[i,j+1];\n",
    "        A_11 = -A[i,j]*A[i-1,j];\n",
    "        A_22 = -A[i,j]*A[i+1,j];\n",
    "        A_33 = -A[i,j]*A[i,j-1];\n",
    "        A_44 = -A[i,j]*A[i,j+1];\n",
    "\n",
    "        E_0 = (A_1 + A_2 + A_3 + A_4)\n",
    "        E_1 = (A_11 + A_22 + A_33 + A_44)\n",
    "        E_change = (A_1 + A_2 + A_3 + A_4) - (A_11 + A_22 + A_33 + A_44)\n",
    "        \n",
    "       # spin_flip(E_change, T)\n",
    "\n",
    "        if E_change < 0;\n",
    "            A[i,j]=-A[i,j]\n",
    "        elseif exp(-E_change/T) > rand();\n",
    "            A[i,j]=-A[i,j]            \n",
    "        end\n",
    "   \n",
    "        A[:,1]=A[:,n-1]\n",
    "        A[:,n]=A[:,2]\n",
    "        A[1,:]=A[n-1,:]\n",
    "        A[n,:]=A[2,:]\n",
    "        p+=1\n",
    "\n",
    "        net_spin_2 = sum(A)\n",
    "\n",
    "        #change = net_spin_1 - net_spin_2\n",
    "        \n",
    "    end   \n",
    "\n",
    "    A = A[setdiff(1:end, 1), :]\n",
    "    A = A[setdiff(1:end, end), :]\n",
    "    A = A[:, setdiff(1:end,1)]\n",
    "    A = A[:, setdiff(1:end,end)]\n",
    "\n",
    "\n",
    "    m = sum(A)\n",
    "    push!(M,m)\n",
    "    \n",
    "    T+=1\n",
    "end\n",
    "\n",
    "\n",
    "matshow(A)\n",
    "print(M)\n",
    "print(T)"
   ]
  },
  {
   "cell_type": "code",
   "execution_count": 44,
   "metadata": {},
   "outputs": [
    {
     "data": {
      "text/plain": [
       "5-element Array{Int64,1}:\n",
       " 1\n",
       " 3\n",
       " 5\n",
       " 7\n",
       " 9"
      ]
     },
     "execution_count": 44,
     "metadata": {},
     "output_type": "execute_result"
    }
   ],
   "source": [
    "collect(StepRange(1, Int8(2), 10))"
   ]
  },
  {
   "cell_type": "code",
   "execution_count": 46,
   "metadata": {},
   "outputs": [
    {
     "data": {
      "text/plain": [
       "9-element LinRange{Float64}:\n",
       " 1.5,2.0,2.5,3.0,3.5,4.0,4.5,5.0,5.5"
      ]
     },
     "execution_count": 46,
     "metadata": {},
     "output_type": "execute_result"
    }
   ],
   "source": [
    "LinRange(1.5, 5.5, 9)"
   ]
  },
  {
   "cell_type": "code",
   "execution_count": 4,
   "metadata": {},
   "outputs": [
    {
     "data": {
      "text/plain": [
       "1636.0"
      ]
     },
     "execution_count": 4,
     "metadata": {},
     "output_type": "execute_result"
    }
   ],
   "source": [
    "2*2*2.045*200"
   ]
  },
  {
   "cell_type": "code",
   "execution_count": 5,
   "metadata": {},
   "outputs": [
    {
     "data": {
      "text/plain": [
       "40.44749683231337"
      ]
     },
     "execution_count": 5,
     "metadata": {},
     "output_type": "execute_result"
    }
   ],
   "source": [
    "Scale Invariance = Divergent sus."
   ]
  },
  {
   "cell_type": "code",
   "execution_count": null,
   "metadata": {},
   "outputs": [],
   "source": []
  }
 ],
 "metadata": {
  "kernelspec": {
   "display_name": "Julia 1.0.0",
   "language": "julia",
   "name": "julia-1.0"
  },
  "language_info": {
   "file_extension": ".jl",
   "mimetype": "application/julia",
   "name": "julia",
   "version": "1.0.0"
  }
 },
 "nbformat": 4,
 "nbformat_minor": 2
}
