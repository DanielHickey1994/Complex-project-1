{
 "cells": [
  {
   "cell_type": "code",
   "execution_count": 57,
   "metadata": {},
   "outputs": [
    {
     "name": "stdout",
     "output_type": "stream",
     "text": [
      "Set([4, 2, 3, 1])"
     ]
    }
   ],
   "source": [
    "filled_set = Set([1, 2, 2, 3, 4])\n",
    "\n",
    "#push!(filled_set, 5)\n",
    "print(filled_set)"
   ]
  },
  {
   "cell_type": "code",
   "execution_count": 111,
   "metadata": {},
   "outputs": [
    {
     "name": "stdout",
     "output_type": "stream",
     "text": [
      "search:\n",
      "\n"
     ]
    },
    {
     "data": {
      "text/markdown": [
       "```\n",
       "x || y\n",
       "```\n",
       "\n",
       "Short-circuiting boolean OR.\n"
      ],
      "text/plain": [
       "\u001b[36m  x || y\u001b[39m\n",
       "\n",
       "  Short-circuiting boolean OR."
      ]
     },
     "execution_count": 111,
     "metadata": {},
     "output_type": "execute_result"
    }
   ],
   "source": [
    "?||"
   ]
  },
  {
   "cell_type": "code",
   "execution_count": 133,
   "metadata": {},
   "outputs": [
    {
     "data": {
      "image/png": "[encoded data removed]",
      "text/plain": [
       "Figure(PyObject <Figure size 480x480 with 1 Axes>)"
      ]
     },
     "metadata": {},
     "output_type": "display_data"
    },
    {
     "data": {
      "text/plain": [
       "PyObject <matplotlib.image.AxesImage object at 0x000000002F867C88>"
      ]
     },
     "execution_count": 133,
     "metadata": {},
     "output_type": "execute_result"
    }
   ],
   "source": [
    "using Pkg; \n",
    "using Plots; \n",
    "using PyPlot;\n",
    "\n",
    "Lambda=2\n",
    "n=100\n",
    "m=100\n",
    "a=1\n",
    "b=1\n",
    "c=0\n",
    "d=1\n",
    "e=1\n",
    "f=0\n",
    "g=1\n",
    "h=1\n",
    "\n",
    "array0=zeros(Int8,n-1,m)\n",
    "x=rand([0,1],(1,m))\n",
    "array0=[x;array0]\n",
    "#print(size(array0))\n",
    "#array0[1,floor(Int,m/2)]=1\n",
    "\n",
    "\n",
    "\n",
    "for i = 2:n\n",
    "    for j = 2:m-1\n",
    "        if (array0[(i-1),(j-1)]==0 && array0[(i-1),(j)]==0 && array0[(i-1),(j+1)]==0) \n",
    "            array0[i,j] = 0\n",
    "        elseif (array0[(i-1),(j-1)]==0 && array0[(i-1),(j)]==0 && array0[(i-1),(j+1)]==1) \n",
    "            array0[i,j] = 0\n",
    "        elseif (array0[(i-1),(j-1)]==0 && array0[(i-1),(j)]==1 && array0[(i-1),(j+1)]==0) \n",
    "            array0[i,j] = 0\n",
    "        elseif (array0[(i-1),(j-1)]==1 && array0[(i-1),(j)]==0 && array0[(i-1),(j+1)]==0) \n",
    "            array0[i,j] = 0\n",
    "        elseif (array0[(i-1),(j-1)]==0 && array0[(i-1),(j)]==1 && array0[(i-1),(j+1)]==1) \n",
    "            array0[i,j] = 0\n",
    "        elseif (array0[(i-1),(j-1)]==1 && array0[(i-1),(j)]==1 && array0[(i-1),(j+1)]==0) \n",
    "            array0[i,j] = 0\n",
    "        elseif (array0[(i-1),(j-1)]==1 && array0[(i-1),(j)]==0 && array0[(i-1),(j+1)]==1) \n",
    "            array0[i,j] = 0\n",
    "        elseif (array0[(i-1),(j-1)]==1 && array0[(i-1),(j)]==1 && array0[(i-1),(j+1)]==1) \n",
    "            array0[i,j] = 0  \n",
    "        end\n",
    "    end\n",
    "end\n",
    "\n",
    "\n",
    "\n",
    "array=zeros(Int8,n-1,m)\n",
    "array=[x;array]\n",
    "#array[1,floor(Int,m/2)]=1\n",
    "\n",
    "\n",
    "for i = 2:n\n",
    "    for j = 2:m-1\n",
    "        if (array[(i-1),(j-1)]==0 && array[(i-1),(j)]==0 && array[(i-1),(j+1)]==0) \n",
    "            array[i,j] = a\n",
    "        elseif (array[(i-1),(j-1)]==0 && array[(i-1),(j)]==0 && array[(i-1),(j+1)]==1) \n",
    "            array[i,j] = b\n",
    "        elseif (array[(i-1),(j-1)]==0 && array[(i-1),(j)]==1 && array[(i-1),(j+1)]==0) \n",
    "            array[i,j] = c\n",
    "        elseif (array[(i-1),(j-1)]==1 && array[(i-1),(j)]==0 && array[(i-1),(j+1)]==0) \n",
    "            array[i,j] = d\n",
    "        elseif (array[(i-1),(j-1)]==0 && array[(i-1),(j)]==1 && array[(i-1),(j+1)]==1) \n",
    "            array[i,j] = e\n",
    "        elseif (array[(i-1),(j-1)]==1 && array[(i-1),(j)]==1 && array[(i-1),(j+1)]==0) \n",
    "            array[i,j] = f\n",
    "        elseif (array[(i-1),(j-1)]==1 && array[(i-1),(j)]==0 && array[(i-1),(j+1)]==1) \n",
    "            array[i,j] = g\n",
    "        elseif (array[(i-1),(j-1)]==1 && array[(i-1),(j)]==1 && array[(i-1),(j+1)]==1) \n",
    "            array[i,j] = h  \n",
    "        end\n",
    "    end\n",
    "end\n",
    "\n",
    "\n",
    "Phi = (1-Lambda)array0 + Lambda*array\n",
    "\n",
    "matshow(Phi)"
   ]
  },
  {
   "cell_type": "code",
   "execution_count": 126,
   "metadata": {},
   "outputs": [
    {
     "data": {
      "text/plain": [
       "11×10 Array{Int64,2}:\n",
       " 1  1  1  1  1  0  1  0  0  1\n",
       " 0  0  0  0  0  0  0  0  0  0\n",
       " 0  0  0  0  0  0  0  0  0  0\n",
       " 0  0  0  0  0  0  0  0  0  0\n",
       " 0  0  0  0  0  0  0  0  0  0\n",
       " 0  0  0  0  0  0  0  0  0  0\n",
       " 0  0  0  0  0  0  0  0  0  0\n",
       " 0  0  0  0  0  0  0  0  0  0\n",
       " 0  0  0  0  0  0  0  0  0  0\n",
       " 0  0  0  0  0  0  0  0  0  0\n",
       " 0  0  0  0  0  0  0  0  0  0"
      ]
     },
     "execution_count": 126,
     "metadata": {},
     "output_type": "execute_result"
    }
   ],
   "source": [
    "Z=zeros(Int8,n,m)\n",
    "x=rand([0,1],(1,m))\n",
    "Z=[x;Z]"
   ]
  },
  {
   "cell_type": "code",
   "execution_count": null,
   "metadata": {},
   "outputs": [],
   "source": []
  },
  {
   "cell_type": "code",
   "execution_count": null,
   "metadata": {},
   "outputs": [],
   "source": []
  }
 ],
 "metadata": {
  "kernelspec": {
   "display_name": "Julia 1.0.0",
   "language": "julia",
   "name": "julia-1.0"
  },
  "language_info": {
   "file_extension": ".jl",
   "mimetype": "application/julia",
   "name": "julia",
   "version": "1.0.0"
  }
 },
 "nbformat": 4,
 "nbformat_minor": 2
}
