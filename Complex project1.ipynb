{
 "cells": [
  {
   "cell_type": "code",
   "execution_count": 57,
   "metadata": {},
   "outputs": [
    {
     "name": "stdout",
     "output_type": "stream",
     "text": [
      "Set([4, 2, 3, 1])"
     ]
    }
   ],
   "source": [
    "filled_set = Set([1, 2, 2, 3, 4])\n",
    "\n",
    "#push!(filled_set, 5)\n",
    "print(filled_set)"
   ]
  },
  {
   "cell_type": "code",
   "execution_count": 111,
   "metadata": {},
   "outputs": [
    {
     "name": "stdout",
     "output_type": "stream",
     "text": [
      "search:\n",
      "\n"
     ]
    },
    {
     "data": {
      "text/markdown": [
       "```\n",
       "x || y\n",
       "```\n",
       "\n",
       "Short-circuiting boolean OR.\n"
      ],
      "text/plain": [
       "\u001b[36m  x || y\u001b[39m\n",
       "\n",
       "  Short-circuiting boolean OR."
      ]
     },
     "execution_count": 111,
     "metadata": {},
     "output_type": "execute_result"
    }
   ],
   "source": [
    "?||"
   ]
  },
  {
   "cell_type": "code",
   "execution_count": 60,
   "metadata": {},
   "outputs": [
    {
     "data": {
      "image/png": "[encoded data removed]",
      "text/plain": [
       "Figure(PyObject <Figure size 480x480 with 1 Axes>)"
      ]
     },
     "metadata": {},
     "output_type": "display_data"
    },
    {
     "data": {
      "text/plain": [
       "PyObject <matplotlib.image.AxesImage object at 0x000000003A364B70>"
      ]
     },
     "execution_count": 60,
     "metadata": {},
     "output_type": "execute_result"
    }
   ],
   "source": [
    "using Pkg; \n",
    "using Plots; \n",
    "using PyPlot;\n",
    "\n",
    "n=100\n",
    "m=100\n",
    "a=1\n",
    "b=1\n",
    "c=0\n",
    "d=1\n",
    "e=1\n",
    "f=0\n",
    "g=1\n",
    "h=1\n",
    "array=zeros(Int8,n,m)\n",
    "array[1,floor(Int,m/2)]=1\n",
    "\n",
    "\n",
    "for i = 2:n\n",
    "    for j = 2:m-1\n",
    "        if (array[(i-1),(j-1)]==0 && array[(i-1),(j)]==0 && array[(i-1),(j+1)]==0) \n",
    "            array[i,j] = a\n",
    "        elseif (array[(i-1),(j-1)]==0 && array[(i-1),(j)]==0 && array[(i-1),(j+1)]==1) \n",
    "            array[i,j] = b\n",
    "        elseif (array[(i-1),(j-1)]==0 && array[(i-1),(j)]==1 && array[(i-1),(j+1)]==0) \n",
    "            array[i,j] = c\n",
    "        elseif (array[(i-1),(j-1)]==1 && array[(i-1),(j)]==0 && array[(i-1),(j+1)]==0) \n",
    "            array[i,j] = d\n",
    "        elseif (array[(i-1),(j-1)]==0 && array[(i-1),(j)]==1 && array[(i-1),(j+1)]==1) \n",
    "            array[i,j] = e\n",
    "        elseif (array[(i-1),(j-1)]==1 && array[(i-1),(j)]==1 && array[(i-1),(j+1)]==0) \n",
    "            array[i,j] = f\n",
    "        elseif (array[(i-1),(j-1)]==1 && array[(i-1),(j)]==0 && array[(i-1),(j+1)]==1) \n",
    "            array[i,j] = g\n",
    "        elseif (array[(i-1),(j-1)]==1 && array[(i-1),(j)]==1 && array[(i-1),(j+1)]==1) \n",
    "            array[i,j] = h  \n",
    "        end\n",
    "    end\n",
    "end\n",
    "\n",
    "\n",
    "matshow(array)"
   ]
  },
  {
   "cell_type": "code",
   "execution_count": 33,
   "metadata": {},
   "outputs": [
    {
     "ename": "BoundsError",
     "evalue": "BoundsError: attempt to access 5×10 Array{Int8,2} at index [6, 5]",
     "output_type": "error",
     "traceback": [
      "BoundsError: attempt to access 5×10 Array{Int8,2} at index [6, 5]",
      "",
      "Stacktrace:",
      " [1] getindex(::Array{Int8,2}, ::Int64, ::Int64) at .\\array.jl:732",
      " [2] top-level scope at In[33]:3"
     ]
    }
   ],
   "source": [
    "x=zeros(Int8,5,10)\n",
    "\n",
    "print(x[5,5])"
   ]
  },
  {
   "cell_type": "code",
   "execution_count": null,
   "metadata": {},
   "outputs": [],
   "source": []
  }
 ],
 "metadata": {
  "kernelspec": {
   "display_name": "Julia 1.0.0",
   "language": "julia",
   "name": "julia-1.0"
  },
  "language_info": {
   "file_extension": ".jl",
   "mimetype": "application/julia",
   "name": "julia",
   "version": "1.0.0"
  }
 },
 "nbformat": 4,
 "nbformat_minor": 2
}
