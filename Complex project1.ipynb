{
 "cells": [
  {
   "cell_type": "code",
   "execution_count": 57,
   "metadata": {},
   "outputs": [
    {
     "name": "stdout",
     "output_type": "stream",
     "text": [
      "Set([4, 2, 3, 1])"
     ]
    }
   ],
   "source": [
    "filled_set = Set([1, 2, 2, 3, 4])\n",
    "\n",
    "#push!(filled_set, 5)\n",
    "print(filled_set)"
   ]
  },
  {
   "cell_type": "code",
   "execution_count": 130,
   "metadata": {},
   "outputs": [
    {
     "ename": "LoadError",
     "evalue": "syntax: unexpected \"=\"",
     "output_type": "error",
     "traceback": [
      "syntax: unexpected \"=\"",
      ""
     ]
    }
   ],
   "source": [
    "using Pkg; \n",
    "using Plots; \n",
    "using PyPlot;\n",
    "\n",
    "n=10\n",
    "m=100\n",
    "\n",
    "array=zeros(Int8,n,m)\n",
    "array[1,floor(Int,m/2)]=1\n",
    "\n",
    "\n",
    "for i = 2:n-1\n",
    "    for j = 2:m\n",
    "        if (array[(i-1),(j-1)]==0 && array[(i),(j-1)]==0 && array[(i+1),(j-1)]==0) ||\n",
    "            (array[(i-1),(j-1)]==0 && array[(i),(j-1)]==0 && array[(i+1),(j-1)]==1) ||\n",
    "            (array[(i-1),(j-1)]==0 && array[(i),(j-1)]==1 && array[(i+1),(j-1)]==0) ||\n",
    "            (array[(i-1),(j-1)]==1 && array[(i),(j-1)]==0 && array[(i+1),(j-1)]==0) ||\n",
    "            (array[(i-1),(j-1)]==0 && array[(i),(j-1)]==1 && array[(i+1),(j-1)]==1) ||\n",
    "            (array[(i-1),(j-1)]==1 && array[(i),(j-1)]==0 && array[(i+1),(j-1)]==1) ||\n",
    "            (array[(i-1),(j-1)]==1 && array[(i),(j-1)]==1 && array[(i+1),(j-1)]==0) ||\n",
    "            (array[(i-1),(j-1)]==1 && array[(i),(j-1)]==1 && array[(i+1),(j-1)]==1) ||\n",
    "            array[i,j] = 1\n",
    "        else\n",
    "            array[i,j] = 0\n",
    "        end\n",
    "    end\n",
    "end\n",
    "\n",
    "\n",
    "matshow(array)"
   ]
  },
  {
   "cell_type": "code",
   "execution_count": 111,
   "metadata": {},
   "outputs": [
    {
     "name": "stdout",
     "output_type": "stream",
     "text": [
      "search:\n",
      "\n"
     ]
    },
    {
     "data": {
      "text/markdown": [
       "```\n",
       "x || y\n",
       "```\n",
       "\n",
       "Short-circuiting boolean OR.\n"
      ],
      "text/plain": [
       "\u001b[36m  x || y\u001b[39m\n",
       "\n",
       "  Short-circuiting boolean OR."
      ]
     },
     "execution_count": 111,
     "metadata": {},
     "output_type": "execute_result"
    }
   ],
   "source": [
    "?||"
   ]
  },
  {
   "cell_type": "code",
   "execution_count": 131,
   "metadata": {},
   "outputs": [
    {
     "data": {
      "text/plain": [
       "10×100 Array{Int8,2}:\n",
       " 0  0  0  0  0  0  0  0  0  0  0  0  0  …  0  0  0  0  0  0  0  0  0  0  0  0\n",
       " 0  0  0  0  0  0  0  0  0  0  0  0  0     0  0  0  0  0  0  0  0  0  0  0  0\n",
       " 0  0  0  0  0  0  0  0  0  0  0  0  0     0  0  0  0  0  0  0  0  0  0  0  0\n",
       " 0  0  0  0  0  0  0  0  0  0  0  0  0     0  0  0  0  0  0  0  0  0  0  0  0\n",
       " 0  0  0  0  0  0  0  0  0  0  0  0  0     0  0  0  0  0  0  0  0  0  0  0  0\n",
       " 0  0  0  0  0  0  0  0  0  0  0  0  0  …  0  0  0  0  0  0  0  0  0  0  0  0\n",
       " 0  0  0  0  0  0  0  0  0  0  0  0  0     0  0  0  0  0  0  0  0  0  0  0  0\n",
       " 0  0  0  0  0  0  0  0  0  0  0  0  0     0  0  0  0  0  0  0  0  0  0  0  0\n",
       " 0  0  0  0  0  0  0  0  0  0  0  0  0     0  0  0  0  0  0  0  0  0  0  0  0\n",
       " 0  0  0  0  0  0  0  0  0  0  0  0  0     0  0  0  0  0  0  0  0  0  0  0  0"
      ]
     },
     "execution_count": 131,
     "metadata": {},
     "output_type": "execute_result"
    }
   ],
   "source": [
    "zeros(Int8,n,m)"
   ]
  },
  {
   "cell_type": "code",
   "execution_count": null,
   "metadata": {},
   "outputs": [],
   "source": []
  }
 ],
 "metadata": {
  "kernelspec": {
   "display_name": "Julia 1.0.0",
   "language": "julia",
   "name": "julia-1.0"
  },
  "language_info": {
   "file_extension": ".jl",
   "mimetype": "application/julia",
   "name": "julia",
   "version": "1.0.0"
  }
 },
 "nbformat": 4,
 "nbformat_minor": 2
}
